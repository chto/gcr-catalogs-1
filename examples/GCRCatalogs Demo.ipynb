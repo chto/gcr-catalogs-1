{
 "cells": [
  {
   "cell_type": "markdown",
   "metadata": {},
   "source": [
    "# How to use GCRCatalogs\n",
    "\n",
    "by Yao-Yuan Mao\n",
    "\n",
    "Links to GitHub code repos: [GCRCatalogs](https://github.com/LSSTDESC/gcr-catalogs) and [GCR](https://github.com/yymao/generic-catalog-reader)\n",
    "\n",
    "**Note: You should be running this notebook at https://jupyter-dev.nersc.gov **"
   ]
  },
  {
   "cell_type": "code",
   "execution_count": 1,
   "metadata": {},
   "outputs": [],
   "source": [
    "## adding DESCQA env\n",
    "\n",
    "import sys\n",
    "sys.path.insert(0, '/global/homes/j/jderose/desi/mocks/desiqa/cori/lib/python3.5/site-packages/')\n",
    "\n",
    "## Note: if you clone the gcr-catalogs repo and are running this under the `examples` folder,\n",
    "## you can also add your version of GCRCatalogs:\n",
    "#sys.path.insert(0, '..')\n",
    "\n",
    "## The following lines are to check if you're in the lsst group\n",
    "import subprocess\n",
    "assert u'desi' in subprocess.check_output(['groups']).decode().split(), 'You need to be in the `desi` group for this notebook to work'"
   ]
  },
  {
   "cell_type": "markdown",
   "metadata": {},
   "source": [
    "## The basics:\n",
    "\n",
    "- `get_available_catalogs()` lists available catlaogs; returns `dict`.\n",
    "- `load_catalog()` loads the catalog you want; returns an instance of `GCR.BaseGenericCatalog`"
   ]
  },
  {
   "cell_type": "code",
   "execution_count": 43,
   "metadata": {},
   "outputs": [
    {
     "name": "stdout",
     "output_type": "stream",
     "text": [
      "GCRCatalogs = 0.6.6 | GCR = 0.6.1\n"
     ]
    }
   ],
   "source": [
    "import GCRCatalogs\n",
    "\n",
    "## check version\n",
    "print('GCRCatalogs =', GCRCatalogs.__version__, '|' ,'GCR =', GCRCatalogs.GCR.__version__)"
   ]
  },
  {
   "cell_type": "code",
   "execution_count": 44,
   "metadata": {},
   "outputs": [
    {
     "name": "stdout",
     "output_type": "stream",
     "text": [
      "buzzard\n",
      "buzzard_high-res\n",
      "buzzard_test\n"
     ]
    }
   ],
   "source": [
    "## list all find available catlaogs, sorted by their name\n",
    "\n",
    "print('\\n'.join(sorted(GCRCatalogs.get_available_catalogs())))"
   ]
  },
  {
   "cell_type": "code",
   "execution_count": 4,
   "metadata": {},
   "outputs": [],
   "source": [
    "## load 'buzzard' catalog\n",
    "\n",
    "gc = GCRCatalogs.load_catalog('buzzard_test')"
   ]
  },
  {
   "cell_type": "markdown",
   "metadata": {},
   "source": [
    "## GCR interface\n",
    "\n",
    "See also the [full GCR API Documentation](https://yymao.github.io/generic-catalog-reader/index.html)."
   ]
  },
  {
   "cell_type": "markdown",
   "metadata": {
    "collapsed": true
   },
   "source": [
    "### quantities\n",
    "\n",
    "- `get_quantities()` loads the quantities you need; takes a `list` and returns `dict`.\n",
    "- `has_quantity()` and `has_quantities()` can check if the quantities you need exist; both return `bool`.\n",
    "- `list_all_quantities()` lists all available catlaogs; returns `list`."
   ]
  },
  {
   "cell_type": "code",
   "execution_count": 5,
   "metadata": {},
   "outputs": [
    {
     "name": "stdout",
     "output_type": "stream",
     "text": [
      "magerr_Y_des, velocity_z, redshift_true, mag_true_W1_wise, is_central, Mag_true_z_des_z01, position_x, Mag_true_W2_wise_z01, mag_lensed_W2_wise, galaxy_id, mag_Y_des, dec_true, ellipticity_1_true, mag_true_W4_wise, Mag_true_i_des_z01, mag_lensed_W1_wise, mag_g_des, shear_1, Mag_true_r_des_z01, velocity_y, magerr_z_des, Mag_true_W1_wise_z01, position_y, Mag_true_W3_wise_z01, ra_true, mag_r_des, position_z, ellipticity_1, ellipticity_2, ellipticity_2_true, magerr_r_des, convergence, Mag_true_g_des_z01, mag_i_des, dec, redshift, mag_lensed_W4_wise, size, mag_true_W3_wise, mag_z_des, velocity_x, magerr_i_des, Mag_true_Y_des_z01, size_true, magerr_g_des, Mag_true_W4_wise_z01, shear_2, magnification, halo_mass, mag_lensed_W3_wise, halo_id, mag_true_W2_wise, ra\n"
     ]
    }
   ],
   "source": [
    "print(', '.join(gc.list_all_quantities()))"
   ]
  },
  {
   "cell_type": "code",
   "execution_count": 6,
   "metadata": {},
   "outputs": [
    {
     "data": {
      "text/plain": [
       "{'dec': array([ 5070.44581771,  5070.44096702,  5070.44536996, ...,  5071.69091018,\n",
       "         5073.0937116 ,  5073.14808989]),\n",
       " 'mag_g_des': array([ 23.56345367,  21.20425224,  24.8347168 , ...,  24.19458199,\n",
       "         24.38895798,  24.07577705], dtype=float32),\n",
       " 'ra': array([ 221.7452088 ,  221.74582649,  221.74894922, ...,  230.27953815,\n",
       "         228.63716694,  228.57528929])}"
      ]
     },
     "execution_count": 6,
     "metadata": {},
     "output_type": "execute_result"
    }
   ],
   "source": [
    "gc.get_quantities(['mag_g_des', 'ra', 'dec'])"
   ]
  },
  {
   "cell_type": "code",
   "execution_count": 7,
   "metadata": {},
   "outputs": [
    {
     "data": {
      "text/plain": [
       "True"
      ]
     },
     "execution_count": 7,
     "metadata": {},
     "output_type": "execute_result"
    }
   ],
   "source": [
    "gc.has_quantity('mag_g_des')"
   ]
  },
  {
   "cell_type": "code",
   "execution_count": 8,
   "metadata": {},
   "outputs": [
    {
     "data": {
      "text/plain": [
       "False"
      ]
     },
     "execution_count": 8,
     "metadata": {},
     "output_type": "execute_result"
    }
   ],
   "source": [
    "gc.has_quantities(['mag_u_des', 'ra', 'dec'])"
   ]
  },
  {
   "cell_type": "code",
   "execution_count": 9,
   "metadata": {},
   "outputs": [
    {
     "data": {
      "text/plain": [
       "False"
      ]
     },
     "execution_count": 9,
     "metadata": {},
     "output_type": "execute_result"
    }
   ],
   "source": [
    "## Only returns `True` if *all* quantities exist\n",
    "gc.has_quantities(['mag_u_des', 'ra', 'dec', 'quantitiy_that_does_not_exist'])"
   ]
  },
  {
   "cell_type": "markdown",
   "metadata": {},
   "source": [
    "### accessing native quantities\n",
    "\n",
    "Native quantities are quantities that have not yet be homogenized (to common labels/units).\n",
    "However, you can still access them as long as you know what you are doing. "
   ]
  },
  {
   "cell_type": "code",
   "execution_count": 21,
   "metadata": {},
   "outputs": [
    {
     "name": "stdout",
     "output_type": "stream",
     "text": [
      "truth/AMAG/0\n",
      "truth/AMAG/3\n",
      "truth/COEFFS/1\n",
      "truth/LMAG/1\n",
      "truth/OMAGERR/3\n"
     ]
    }
   ],
   "source": [
    "## print out the first 5 native quantities\n",
    "\n",
    "print('\\n'.join(sorted(gc.list_all_native_quantities()[:5])))"
   ]
  },
  {
   "cell_type": "code",
   "execution_count": 23,
   "metadata": {},
   "outputs": [
    {
     "data": {
      "text/plain": [
       "{'truth/AMAG/0': array([-17.52243805, -19.7017498 , -16.09822083, ..., -22.04293251,\n",
       "        -22.15708351, -21.49083138], dtype=float32),\n",
       " 'truth/AMAG/3': array([-18.46500778, -20.53603554, -16.91502953, ..., -23.03385925,\n",
       "        -23.10215187, -22.05506897], dtype=float32)}"
      ]
     },
     "execution_count": 23,
     "metadata": {},
     "output_type": "execute_result"
    }
   ],
   "source": [
    "gc.get_quantities(['truth/AMAG/0',\n",
    "                   'truth/AMAG/3'])"
   ]
  },
  {
   "cell_type": "markdown",
   "metadata": {},
   "source": [
    "You can also rename the native quantities by using `add_quantity_modifier()`. For example:"
   ]
  },
  {
   "cell_type": "code",
   "execution_count": 24,
   "metadata": {},
   "outputs": [
    {
     "data": {
      "text/plain": [
       "{'kcorrect_coefficient_0': array([  8.99252825e-11,   4.97986186e-08,   1.03537223e-08, ...,\n",
       "          1.39733611e-08,   2.12505622e-08,   7.42585682e-09], dtype=float32)}"
      ]
     },
     "execution_count": 24,
     "metadata": {},
     "output_type": "execute_result"
    }
   ],
   "source": [
    "gc.add_quantity_modifier('kcorrect_coefficient_0', 'truth/COEFFS/0')\n",
    "gc.get_quantities(['kcorrect_coefficient_0'])"
   ]
  },
  {
   "cell_type": "markdown",
   "metadata": {},
   "source": [
    "To get all native quantities that match a regex"
   ]
  },
  {
   "cell_type": "code",
   "execution_count": 25,
   "metadata": {},
   "outputs": [],
   "source": [
    "import re\n",
    "\n",
    "data = gc.get_quantities([q for q in gc.list_all_native_quantities() if re.match('truth/COEFFS/\\d+', q)]) "
   ]
  },
  {
   "cell_type": "code",
   "execution_count": 26,
   "metadata": {},
   "outputs": [
    {
     "data": {
      "text/plain": [
       "{'truth/COEFFS/0': array([  8.99252825e-11,   4.97986186e-08,   1.03537223e-08, ...,\n",
       "          1.39733611e-08,   2.12505622e-08,   7.42585682e-09], dtype=float32),\n",
       " 'truth/COEFFS/1': array([  3.03820588e-14,   9.51125029e-13,   4.10002240e-12, ...,\n",
       "          2.00311764e-11,   2.10052149e-11,   2.74345338e-11], dtype=float32),\n",
       " 'truth/COEFFS/2': array([  1.70871992e-08,   6.96106994e-08,   4.97552888e-09, ...,\n",
       "          9.12624465e-09,   1.32643105e-08,   6.83267087e-09], dtype=float32),\n",
       " 'truth/COEFFS/3': array([  1.30903530e-07,   6.99592306e-07,   5.60194291e-09, ...,\n",
       "          1.02744025e-07,   7.80981537e-08,   6.90286539e-09], dtype=float32),\n",
       " 'truth/COEFFS/4': array([  4.34666259e-09,   7.74487035e-08,   1.75365167e-09, ...,\n",
       "          3.67368092e-09,   3.16706861e-09,   1.21139365e-09], dtype=float32)}"
      ]
     },
     "execution_count": 26,
     "metadata": {},
     "output_type": "execute_result"
    }
   ],
   "source": [
    "data"
   ]
  },
  {
   "cell_type": "markdown",
   "metadata": {},
   "source": [
    "### more info about the catalog\n",
    "\n",
    "- `lightcone` is a `bool`\n",
    "- `cosmology` is a instance of `astropy.cosmology.FLRW`\n",
    "- `get_input_kwargs()` returns a `dict` (when no argument) from the orignal yaml config file. \n",
    "  If a argument if passed, it returns the corresponding value for key=argument"
   ]
  },
  {
   "cell_type": "code",
   "execution_count": 27,
   "metadata": {},
   "outputs": [
    {
     "data": {
      "text/plain": [
       "True"
      ]
     },
     "execution_count": 27,
     "metadata": {},
     "output_type": "execute_result"
    }
   ],
   "source": [
    "gc.lightcone"
   ]
  },
  {
   "cell_type": "code",
   "execution_count": 28,
   "metadata": {},
   "outputs": [
    {
     "data": {
      "text/plain": [
       "FlatLambdaCDM(H0=70 km / (Mpc s), Om0=0.286, Tcmb0=2.725 K, Neff=3.04, m_nu=[ 0.  0.  0.] eV, Ob0=None)"
      ]
     },
     "execution_count": 28,
     "metadata": {},
     "output_type": "execute_result"
    }
   ],
   "source": [
    "gc.cosmology"
   ]
  },
  {
   "cell_type": "code",
   "execution_count": 29,
   "metadata": {},
   "outputs": [
    {
     "name": "stdout",
     "output_type": "stream",
     "text": [
      "This is a smaller version of the Buzzard galaxy catalog v1.6 (realization 0),\n",
      "with only one healpixel, for testing purposes.\n",
      "\n"
     ]
    }
   ],
   "source": [
    "print(gc.get_catalog_info('description'))"
   ]
  },
  {
   "cell_type": "code",
   "execution_count": 30,
   "metadata": {},
   "outputs": [
    {
     "name": "stdout",
     "output_type": "stream",
     "text": [
      "None\n"
     ]
    }
   ],
   "source": [
    "print(gc.get_catalog_info('version'))"
   ]
  },
  {
   "cell_type": "code",
   "execution_count": 31,
   "metadata": {},
   "outputs": [
    {
     "name": "stdout",
     "output_type": "stream",
     "text": [
      "{'halo_mass_def': 'vir', 'description': 'This is a smaller version of the Buzzard galaxy catalog v1.6 (realization 0),\\nwith only one healpixel, for testing purposes.\\n', 'catalog_root_dir': '/project/projectdirs/desi/mocks/buzzard/buzzard_v1.6_desicut/temp/', 'sky_area': 53.71, 'catalog_path_template': {'truth': '{group}/{pix}/Buzzard_v1.6_lensed-8-{pix}.fits'}, 'creators': ['Joe DeRose', 'Risa Wechsler', 'Eli Rykoff', 'Matt Becker'], 'healpix_pixels': [128], 'subclass_name': 'buzzard.BuzzardGalaxyCatalog', 'lightcone': True, 'cosmology': {'Om0': 0.286, 'H0': 70.0}}\n"
     ]
    }
   ],
   "source": [
    "print(gc.get_catalog_info())"
   ]
  },
  {
   "cell_type": "markdown",
   "metadata": {},
   "source": [
    "### more tips on using the quantities\n",
    "\n",
    "#### tip 1\n",
    "`get_quantities()` returns a dictionary, which you can easily turn into a `astropy.table.Table` or `pandas.DataFrame`"
   ]
  },
  {
   "cell_type": "code",
   "execution_count": 32,
   "metadata": {},
   "outputs": [],
   "source": [
    "data = gc.get_quantities(['mag_g_des', 'ra', 'dec'])"
   ]
  },
  {
   "cell_type": "code",
   "execution_count": 33,
   "metadata": {},
   "outputs": [
    {
     "data": {
      "text/html": [
       "<div>\n",
       "<style>\n",
       "    .dataframe thead tr:only-child th {\n",
       "        text-align: right;\n",
       "    }\n",
       "\n",
       "    .dataframe thead th {\n",
       "        text-align: left;\n",
       "    }\n",
       "\n",
       "    .dataframe tbody tr th {\n",
       "        vertical-align: top;\n",
       "    }\n",
       "</style>\n",
       "<table border=\"1\" class=\"dataframe\">\n",
       "  <thead>\n",
       "    <tr style=\"text-align: right;\">\n",
       "      <th></th>\n",
       "      <th>dec</th>\n",
       "      <th>mag_g_des</th>\n",
       "      <th>ra</th>\n",
       "    </tr>\n",
       "  </thead>\n",
       "  <tbody>\n",
       "    <tr>\n",
       "      <th>0</th>\n",
       "      <td>5070.445818</td>\n",
       "      <td>23.563454</td>\n",
       "      <td>221.745209</td>\n",
       "    </tr>\n",
       "    <tr>\n",
       "      <th>1</th>\n",
       "      <td>5070.440967</td>\n",
       "      <td>21.204252</td>\n",
       "      <td>221.745826</td>\n",
       "    </tr>\n",
       "    <tr>\n",
       "      <th>2</th>\n",
       "      <td>5070.445370</td>\n",
       "      <td>24.834717</td>\n",
       "      <td>221.748949</td>\n",
       "    </tr>\n",
       "    <tr>\n",
       "      <th>3</th>\n",
       "      <td>5070.440403</td>\n",
       "      <td>22.417755</td>\n",
       "      <td>221.747757</td>\n",
       "    </tr>\n",
       "    <tr>\n",
       "      <th>4</th>\n",
       "      <td>5074.114874</td>\n",
       "      <td>24.906065</td>\n",
       "      <td>223.650718</td>\n",
       "    </tr>\n",
       "    <tr>\n",
       "      <th>5</th>\n",
       "      <td>5074.113296</td>\n",
       "      <td>20.587118</td>\n",
       "      <td>223.651473</td>\n",
       "    </tr>\n",
       "    <tr>\n",
       "      <th>6</th>\n",
       "      <td>5070.442412</td>\n",
       "      <td>24.060648</td>\n",
       "      <td>221.741501</td>\n",
       "    </tr>\n",
       "    <tr>\n",
       "      <th>7</th>\n",
       "      <td>5070.443919</td>\n",
       "      <td>25.392254</td>\n",
       "      <td>221.740025</td>\n",
       "    </tr>\n",
       "    <tr>\n",
       "      <th>8</th>\n",
       "      <td>5070.446223</td>\n",
       "      <td>24.513468</td>\n",
       "      <td>221.752858</td>\n",
       "    </tr>\n",
       "    <tr>\n",
       "      <th>9</th>\n",
       "      <td>5074.111391</td>\n",
       "      <td>24.395870</td>\n",
       "      <td>223.648755</td>\n",
       "    </tr>\n",
       "    <tr>\n",
       "      <th>10</th>\n",
       "      <td>5070.449610</td>\n",
       "      <td>23.527239</td>\n",
       "      <td>221.749000</td>\n",
       "    </tr>\n",
       "    <tr>\n",
       "      <th>11</th>\n",
       "      <td>5070.442289</td>\n",
       "      <td>23.265421</td>\n",
       "      <td>221.741126</td>\n",
       "    </tr>\n",
       "    <tr>\n",
       "      <th>12</th>\n",
       "      <td>5070.441060</td>\n",
       "      <td>24.060339</td>\n",
       "      <td>221.744132</td>\n",
       "    </tr>\n",
       "    <tr>\n",
       "      <th>13</th>\n",
       "      <td>5074.114127</td>\n",
       "      <td>22.317684</td>\n",
       "      <td>223.655856</td>\n",
       "    </tr>\n",
       "    <tr>\n",
       "      <th>14</th>\n",
       "      <td>5070.446465</td>\n",
       "      <td>19.607342</td>\n",
       "      <td>221.748328</td>\n",
       "    </tr>\n",
       "    <tr>\n",
       "      <th>15</th>\n",
       "      <td>5074.107399</td>\n",
       "      <td>23.778557</td>\n",
       "      <td>223.650615</td>\n",
       "    </tr>\n",
       "    <tr>\n",
       "      <th>16</th>\n",
       "      <td>5070.451085</td>\n",
       "      <td>23.649288</td>\n",
       "      <td>221.749168</td>\n",
       "    </tr>\n",
       "    <tr>\n",
       "      <th>17</th>\n",
       "      <td>5070.448509</td>\n",
       "      <td>24.250654</td>\n",
       "      <td>221.746257</td>\n",
       "    </tr>\n",
       "    <tr>\n",
       "      <th>18</th>\n",
       "      <td>5074.107456</td>\n",
       "      <td>22.354605</td>\n",
       "      <td>223.649614</td>\n",
       "    </tr>\n",
       "    <tr>\n",
       "      <th>19</th>\n",
       "      <td>5074.105623</td>\n",
       "      <td>22.865849</td>\n",
       "      <td>223.647828</td>\n",
       "    </tr>\n",
       "    <tr>\n",
       "      <th>20</th>\n",
       "      <td>5070.351699</td>\n",
       "      <td>20.168045</td>\n",
       "      <td>228.632002</td>\n",
       "    </tr>\n",
       "    <tr>\n",
       "      <th>21</th>\n",
       "      <td>5070.453015</td>\n",
       "      <td>21.409262</td>\n",
       "      <td>221.751615</td>\n",
       "    </tr>\n",
       "    <tr>\n",
       "      <th>22</th>\n",
       "      <td>5074.119547</td>\n",
       "      <td>22.112293</td>\n",
       "      <td>223.654454</td>\n",
       "    </tr>\n",
       "    <tr>\n",
       "      <th>23</th>\n",
       "      <td>5074.118605</td>\n",
       "      <td>22.792788</td>\n",
       "      <td>223.654718</td>\n",
       "    </tr>\n",
       "    <tr>\n",
       "      <th>24</th>\n",
       "      <td>5070.440533</td>\n",
       "      <td>25.225563</td>\n",
       "      <td>221.735504</td>\n",
       "    </tr>\n",
       "    <tr>\n",
       "      <th>25</th>\n",
       "      <td>5073.225384</td>\n",
       "      <td>24.106602</td>\n",
       "      <td>221.842187</td>\n",
       "    </tr>\n",
       "    <tr>\n",
       "      <th>26</th>\n",
       "      <td>5073.222995</td>\n",
       "      <td>23.993927</td>\n",
       "      <td>221.843595</td>\n",
       "    </tr>\n",
       "    <tr>\n",
       "      <th>27</th>\n",
       "      <td>5070.318541</td>\n",
       "      <td>21.618954</td>\n",
       "      <td>227.800502</td>\n",
       "    </tr>\n",
       "    <tr>\n",
       "      <th>28</th>\n",
       "      <td>5070.317188</td>\n",
       "      <td>23.941261</td>\n",
       "      <td>227.797771</td>\n",
       "    </tr>\n",
       "    <tr>\n",
       "      <th>29</th>\n",
       "      <td>5070.314475</td>\n",
       "      <td>20.202198</td>\n",
       "      <td>227.802922</td>\n",
       "    </tr>\n",
       "    <tr>\n",
       "      <th>...</th>\n",
       "      <td>...</td>\n",
       "      <td>...</td>\n",
       "      <td>...</td>\n",
       "    </tr>\n",
       "    <tr>\n",
       "      <th>2957724</th>\n",
       "      <td>5072.301851</td>\n",
       "      <td>24.082594</td>\n",
       "      <td>229.566608</td>\n",
       "    </tr>\n",
       "    <tr>\n",
       "      <th>2957725</th>\n",
       "      <td>5071.526999</td>\n",
       "      <td>24.431871</td>\n",
       "      <td>230.474188</td>\n",
       "    </tr>\n",
       "    <tr>\n",
       "      <th>2957726</th>\n",
       "      <td>5072.678386</td>\n",
       "      <td>23.991360</td>\n",
       "      <td>229.121487</td>\n",
       "    </tr>\n",
       "    <tr>\n",
       "      <th>2957727</th>\n",
       "      <td>5071.679508</td>\n",
       "      <td>24.444876</td>\n",
       "      <td>230.291444</td>\n",
       "    </tr>\n",
       "    <tr>\n",
       "      <th>2957728</th>\n",
       "      <td>5071.600724</td>\n",
       "      <td>23.432808</td>\n",
       "      <td>230.386043</td>\n",
       "    </tr>\n",
       "    <tr>\n",
       "      <th>2957729</th>\n",
       "      <td>5071.877830</td>\n",
       "      <td>23.968704</td>\n",
       "      <td>230.059307</td>\n",
       "    </tr>\n",
       "    <tr>\n",
       "      <th>2957730</th>\n",
       "      <td>5071.777766</td>\n",
       "      <td>24.486834</td>\n",
       "      <td>230.180211</td>\n",
       "    </tr>\n",
       "    <tr>\n",
       "      <th>2957731</th>\n",
       "      <td>5071.664853</td>\n",
       "      <td>24.109751</td>\n",
       "      <td>230.310304</td>\n",
       "    </tr>\n",
       "    <tr>\n",
       "      <th>2957732</th>\n",
       "      <td>5072.682500</td>\n",
       "      <td>24.290371</td>\n",
       "      <td>229.112487</td>\n",
       "    </tr>\n",
       "    <tr>\n",
       "      <th>2957733</th>\n",
       "      <td>5072.603145</td>\n",
       "      <td>23.663912</td>\n",
       "      <td>229.206519</td>\n",
       "    </tr>\n",
       "    <tr>\n",
       "      <th>2957734</th>\n",
       "      <td>5072.604407</td>\n",
       "      <td>23.981445</td>\n",
       "      <td>229.199329</td>\n",
       "    </tr>\n",
       "    <tr>\n",
       "      <th>2957735</th>\n",
       "      <td>5072.521426</td>\n",
       "      <td>24.120453</td>\n",
       "      <td>229.304511</td>\n",
       "    </tr>\n",
       "    <tr>\n",
       "      <th>2957736</th>\n",
       "      <td>5072.547398</td>\n",
       "      <td>23.730152</td>\n",
       "      <td>229.266316</td>\n",
       "    </tr>\n",
       "    <tr>\n",
       "      <th>2957737</th>\n",
       "      <td>5072.445531</td>\n",
       "      <td>23.083681</td>\n",
       "      <td>229.389559</td>\n",
       "    </tr>\n",
       "    <tr>\n",
       "      <th>2957738</th>\n",
       "      <td>5072.854448</td>\n",
       "      <td>23.910105</td>\n",
       "      <td>228.915127</td>\n",
       "    </tr>\n",
       "    <tr>\n",
       "      <th>2957739</th>\n",
       "      <td>5072.455342</td>\n",
       "      <td>23.309843</td>\n",
       "      <td>229.383583</td>\n",
       "    </tr>\n",
       "    <tr>\n",
       "      <th>2957740</th>\n",
       "      <td>5071.570334</td>\n",
       "      <td>23.359983</td>\n",
       "      <td>230.423515</td>\n",
       "    </tr>\n",
       "    <tr>\n",
       "      <th>2957741</th>\n",
       "      <td>5072.576908</td>\n",
       "      <td>23.951982</td>\n",
       "      <td>229.237796</td>\n",
       "    </tr>\n",
       "    <tr>\n",
       "      <th>2957742</th>\n",
       "      <td>5072.271382</td>\n",
       "      <td>24.103580</td>\n",
       "      <td>229.593823</td>\n",
       "    </tr>\n",
       "    <tr>\n",
       "      <th>2957743</th>\n",
       "      <td>5071.928855</td>\n",
       "      <td>23.625710</td>\n",
       "      <td>229.995925</td>\n",
       "    </tr>\n",
       "    <tr>\n",
       "      <th>2957744</th>\n",
       "      <td>5072.086246</td>\n",
       "      <td>23.940308</td>\n",
       "      <td>229.815176</td>\n",
       "    </tr>\n",
       "    <tr>\n",
       "      <th>2957745</th>\n",
       "      <td>5072.083109</td>\n",
       "      <td>24.112274</td>\n",
       "      <td>229.817775</td>\n",
       "    </tr>\n",
       "    <tr>\n",
       "      <th>2957746</th>\n",
       "      <td>5072.561129</td>\n",
       "      <td>24.105661</td>\n",
       "      <td>229.254386</td>\n",
       "    </tr>\n",
       "    <tr>\n",
       "      <th>2957747</th>\n",
       "      <td>5071.517841</td>\n",
       "      <td>24.196709</td>\n",
       "      <td>230.476998</td>\n",
       "    </tr>\n",
       "    <tr>\n",
       "      <th>2957748</th>\n",
       "      <td>5071.926343</td>\n",
       "      <td>24.000137</td>\n",
       "      <td>230.006593</td>\n",
       "    </tr>\n",
       "    <tr>\n",
       "      <th>2957749</th>\n",
       "      <td>5072.654333</td>\n",
       "      <td>23.618135</td>\n",
       "      <td>229.151272</td>\n",
       "    </tr>\n",
       "    <tr>\n",
       "      <th>2957750</th>\n",
       "      <td>5072.772764</td>\n",
       "      <td>24.033092</td>\n",
       "      <td>229.000463</td>\n",
       "    </tr>\n",
       "    <tr>\n",
       "      <th>2957751</th>\n",
       "      <td>5071.690910</td>\n",
       "      <td>24.194582</td>\n",
       "      <td>230.279538</td>\n",
       "    </tr>\n",
       "    <tr>\n",
       "      <th>2957752</th>\n",
       "      <td>5073.093712</td>\n",
       "      <td>24.388958</td>\n",
       "      <td>228.637167</td>\n",
       "    </tr>\n",
       "    <tr>\n",
       "      <th>2957753</th>\n",
       "      <td>5073.148090</td>\n",
       "      <td>24.075777</td>\n",
       "      <td>228.575289</td>\n",
       "    </tr>\n",
       "  </tbody>\n",
       "</table>\n",
       "<p>2957754 rows × 3 columns</p>\n",
       "</div>"
      ],
      "text/plain": [
       "                 dec  mag_g_des          ra\n",
       "0        5070.445818  23.563454  221.745209\n",
       "1        5070.440967  21.204252  221.745826\n",
       "2        5070.445370  24.834717  221.748949\n",
       "3        5070.440403  22.417755  221.747757\n",
       "4        5074.114874  24.906065  223.650718\n",
       "5        5074.113296  20.587118  223.651473\n",
       "6        5070.442412  24.060648  221.741501\n",
       "7        5070.443919  25.392254  221.740025\n",
       "8        5070.446223  24.513468  221.752858\n",
       "9        5074.111391  24.395870  223.648755\n",
       "10       5070.449610  23.527239  221.749000\n",
       "11       5070.442289  23.265421  221.741126\n",
       "12       5070.441060  24.060339  221.744132\n",
       "13       5074.114127  22.317684  223.655856\n",
       "14       5070.446465  19.607342  221.748328\n",
       "15       5074.107399  23.778557  223.650615\n",
       "16       5070.451085  23.649288  221.749168\n",
       "17       5070.448509  24.250654  221.746257\n",
       "18       5074.107456  22.354605  223.649614\n",
       "19       5074.105623  22.865849  223.647828\n",
       "20       5070.351699  20.168045  228.632002\n",
       "21       5070.453015  21.409262  221.751615\n",
       "22       5074.119547  22.112293  223.654454\n",
       "23       5074.118605  22.792788  223.654718\n",
       "24       5070.440533  25.225563  221.735504\n",
       "25       5073.225384  24.106602  221.842187\n",
       "26       5073.222995  23.993927  221.843595\n",
       "27       5070.318541  21.618954  227.800502\n",
       "28       5070.317188  23.941261  227.797771\n",
       "29       5070.314475  20.202198  227.802922\n",
       "...              ...        ...         ...\n",
       "2957724  5072.301851  24.082594  229.566608\n",
       "2957725  5071.526999  24.431871  230.474188\n",
       "2957726  5072.678386  23.991360  229.121487\n",
       "2957727  5071.679508  24.444876  230.291444\n",
       "2957728  5071.600724  23.432808  230.386043\n",
       "2957729  5071.877830  23.968704  230.059307\n",
       "2957730  5071.777766  24.486834  230.180211\n",
       "2957731  5071.664853  24.109751  230.310304\n",
       "2957732  5072.682500  24.290371  229.112487\n",
       "2957733  5072.603145  23.663912  229.206519\n",
       "2957734  5072.604407  23.981445  229.199329\n",
       "2957735  5072.521426  24.120453  229.304511\n",
       "2957736  5072.547398  23.730152  229.266316\n",
       "2957737  5072.445531  23.083681  229.389559\n",
       "2957738  5072.854448  23.910105  228.915127\n",
       "2957739  5072.455342  23.309843  229.383583\n",
       "2957740  5071.570334  23.359983  230.423515\n",
       "2957741  5072.576908  23.951982  229.237796\n",
       "2957742  5072.271382  24.103580  229.593823\n",
       "2957743  5071.928855  23.625710  229.995925\n",
       "2957744  5072.086246  23.940308  229.815176\n",
       "2957745  5072.083109  24.112274  229.817775\n",
       "2957746  5072.561129  24.105661  229.254386\n",
       "2957747  5071.517841  24.196709  230.476998\n",
       "2957748  5071.926343  24.000137  230.006593\n",
       "2957749  5072.654333  23.618135  229.151272\n",
       "2957750  5072.772764  24.033092  229.000463\n",
       "2957751  5071.690910  24.194582  230.279538\n",
       "2957752  5073.093712  24.388958  228.637167\n",
       "2957753  5073.148090  24.075777  228.575289\n",
       "\n",
       "[2957754 rows x 3 columns]"
      ]
     },
     "execution_count": 33,
     "metadata": {},
     "output_type": "execute_result"
    }
   ],
   "source": [
    "import pandas as pd\n",
    "pd.DataFrame(data)"
   ]
  },
  {
   "cell_type": "code",
   "execution_count": 34,
   "metadata": {
    "scrolled": true
   },
   "outputs": [
    {
     "data": {
      "text/html": [
       "&lt;Table length=2957754&gt;\n",
       "<table id=\"table47093880431448\" class=\"table-striped table-bordered table-condensed\">\n",
       "<thead><tr><th>ra</th><th>mag_g_des</th><th>dec</th></tr></thead>\n",
       "<thead><tr><th>float64</th><th>float32</th><th>float64</th></tr></thead>\n",
       "<tr><td>221.745208798</td><td>23.5635</td><td>5070.44581771</td></tr>\n",
       "<tr><td>221.745826489</td><td>21.2043</td><td>5070.44096702</td></tr>\n",
       "<tr><td>221.748949216</td><td>24.8347</td><td>5070.44536996</td></tr>\n",
       "<tr><td>221.747756585</td><td>22.4178</td><td>5070.44040345</td></tr>\n",
       "<tr><td>223.650717552</td><td>24.9061</td><td>5074.11487354</td></tr>\n",
       "<tr><td>223.651473202</td><td>20.5871</td><td>5074.11329566</td></tr>\n",
       "<tr><td>221.741501268</td><td>24.0606</td><td>5070.44241151</td></tr>\n",
       "<tr><td>221.740024574</td><td>25.3923</td><td>5070.44391893</td></tr>\n",
       "<tr><td>221.75285791</td><td>24.5135</td><td>5070.44622333</td></tr>\n",
       "<tr><td>223.648755023</td><td>24.3959</td><td>5074.11139129</td></tr>\n",
       "<tr><td>...</td><td>...</td><td>...</td></tr>\n",
       "<tr><td>229.815175715</td><td>23.9403</td><td>5072.0862455</td></tr>\n",
       "<tr><td>229.817774921</td><td>24.1123</td><td>5072.0831094</td></tr>\n",
       "<tr><td>229.254386264</td><td>24.1057</td><td>5072.56112866</td></tr>\n",
       "<tr><td>230.476997781</td><td>24.1967</td><td>5071.51784089</td></tr>\n",
       "<tr><td>230.006592706</td><td>24.0001</td><td>5071.92634342</td></tr>\n",
       "<tr><td>229.151272386</td><td>23.6181</td><td>5072.65433276</td></tr>\n",
       "<tr><td>229.000463048</td><td>24.0331</td><td>5072.7727635</td></tr>\n",
       "<tr><td>230.279538152</td><td>24.1946</td><td>5071.69091018</td></tr>\n",
       "<tr><td>228.637166939</td><td>24.389</td><td>5073.0937116</td></tr>\n",
       "<tr><td>228.575289291</td><td>24.0758</td><td>5073.14808989</td></tr>\n",
       "</table>"
      ],
      "text/plain": [
       "<Table length=2957754>\n",
       "      ra      mag_g_des      dec     \n",
       "   float64     float32     float64   \n",
       "------------- --------- -------------\n",
       "221.745208798   23.5635 5070.44581771\n",
       "221.745826489   21.2043 5070.44096702\n",
       "221.748949216   24.8347 5070.44536996\n",
       "221.747756585   22.4178 5070.44040345\n",
       "223.650717552   24.9061 5074.11487354\n",
       "223.651473202   20.5871 5074.11329566\n",
       "221.741501268   24.0606 5070.44241151\n",
       "221.740024574   25.3923 5070.44391893\n",
       " 221.75285791   24.5135 5070.44622333\n",
       "223.648755023   24.3959 5074.11139129\n",
       "          ...       ...           ...\n",
       "229.815175715   23.9403  5072.0862455\n",
       "229.817774921   24.1123  5072.0831094\n",
       "229.254386264   24.1057 5072.56112866\n",
       "230.476997781   24.1967 5071.51784089\n",
       "230.006592706   24.0001 5071.92634342\n",
       "229.151272386   23.6181 5072.65433276\n",
       "229.000463048   24.0331  5072.7727635\n",
       "230.279538152   24.1946 5071.69091018\n",
       "228.637166939    24.389  5073.0937116\n",
       "228.575289291   24.0758 5073.14808989"
      ]
     },
     "execution_count": 34,
     "metadata": {},
     "output_type": "execute_result"
    }
   ],
   "source": [
    "from astropy.table import Table\n",
    "Table(data)"
   ]
  },
  {
   "cell_type": "markdown",
   "metadata": {},
   "source": [
    "#### tip 2\n",
    "\n",
    "Sometimes you can allow slightly different quantiies (for example, lsst u band and sdss u band) when comparing different catalogs. In this case, you can use `first_available()` to get the first available of the given catalog."
   ]
  },
  {
   "cell_type": "code",
   "execution_count": 36,
   "metadata": {},
   "outputs": [
    {
     "data": {
      "text/plain": [
       "'mag_g_des'"
      ]
     },
     "execution_count": 36,
     "metadata": {},
     "output_type": "execute_result"
    }
   ],
   "source": [
    "gc.first_available('mag_g_des', 'mag_u_sdss', 'mag_u_lsst')"
   ]
  },
  {
   "cell_type": "markdown",
   "metadata": {},
   "source": [
    "### Here's a full example"
   ]
  },
  {
   "cell_type": "code",
   "execution_count": 38,
   "metadata": {},
   "outputs": [],
   "source": [
    "import numpy as np\n",
    "from astropy.table import Table\n",
    "import matplotlib.pyplot as plt\n",
    "%matplotlib inline"
   ]
  },
  {
   "cell_type": "code",
   "execution_count": 40,
   "metadata": {},
   "outputs": [],
   "source": [
    "catalogs = ('buzzard_test',)\n",
    "gc_all = dict(zip(catalogs, (GCRCatalogs.load_catalog(c) for c in catalogs)))"
   ]
  },
  {
   "cell_type": "code",
   "execution_count": 41,
   "metadata": {},
   "outputs": [
    {
     "name": "stderr",
     "output_type": "stream",
     "text": [
      "/global/common/cori/contrib/desi/desiconda/20170613-1.1.4-spectro/code/desiconda/20170613-1.1.4-spectro_conda/lib/python3.5/site-packages/matplotlib/font_manager.py:1297: UserWarning: findfont: Font family ['cursive'] not found. Falling back to DejaVu Sans\n",
      "  (prop.get_family(), self.defaultFamily[fontext]))\n"
     ]
    },
    {
     "data": {
      "image/png": "[encoded data removed]",
      "text/plain": [
       "<matplotlib.figure.Figure at 0x2ad4ea2c1a90>"
      ]
     },
     "metadata": {},
     "output_type": "display_data"
    }
   ],
   "source": [
    "fig, ax = plt.subplots(ncols=2, figsize=(12,5), dpi=100)\n",
    "\n",
    "for label, gc_this in gc_all.items():\n",
    "    mag_g = gc_this.first_available('mag_g_des', 'mag_g_sdss')\n",
    "    mag_r = gc_this.first_available('mag_r_des', 'mag_r_sdss')\n",
    "    redshift = gc_this.first_available('redshift_true', 'redshift')\n",
    "    quantities_needed = [mag_g, mag_r, redshift]\n",
    "    \n",
    "    data = Table(gc_this.get_quantities(quantities_needed, [redshift + '> 0.1', redshift + '< 0.3']))\n",
    "    \n",
    "    data = data[np.isfinite(data[mag_g]) & np.isfinite(data[mag_r])]\n",
    "    data = data[data[mag_r] < 22.0]\n",
    "    \n",
    "    ax[0].hist(data[redshift], 20, normed=True, alpha=0.6, label=label);\n",
    "    ax[1].hist(data[mag_g] - data[mag_r], 20, normed=True, alpha=0.6);\n",
    "\n",
    "ax[0].legend(frameon=False);\n",
    "ax[0].set_xlabel('$z$');\n",
    "ax[1].set_xlabel('$g-r$');"
   ]
  },
  {
   "cell_type": "code",
   "execution_count": null,
   "metadata": {
    "collapsed": true
   },
   "outputs": [],
   "source": []
  }
 ],
 "metadata": {
  "kernelspec": {
   "display_name": "DESI 17.9",
   "language": "python",
   "name": "desi-17.9"
  },
  "language_info": {
   "codemirror_mode": {
    "name": "ipython",
    "version": 3
   },
   "file_extension": ".py",
   "mimetype": "text/x-python",
   "name": "python",
   "nbconvert_exporter": "python",
   "pygments_lexer": "ipython3",
   "version": "3.5.3"
  }
 },
 "nbformat": 4,
 "nbformat_minor": 2
}
